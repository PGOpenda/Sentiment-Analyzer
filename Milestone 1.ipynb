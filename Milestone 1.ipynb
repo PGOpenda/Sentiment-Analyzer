{
 "cells": [
  {
   "cell_type": "markdown",
   "id": "7f7a0c18",
   "metadata": {},
   "source": [
    "# <em><u>Sentiment Analyzer - Milestone 1</u></em>"
   ]
  },
  {
   "cell_type": "markdown",
   "id": "9ab70151",
   "metadata": {},
   "source": [
    "## Import necessary libraries"
   ]
  },
  {
   "cell_type": "code",
   "execution_count": 20,
   "id": "9c180c33",
   "metadata": {},
   "outputs": [
    {
     "name": "stderr",
     "output_type": "stream",
     "text": [
      "[nltk_data] Downloading package punkt to\n",
      "[nltk_data]     C:\\Users\\piuso\\AppData\\Roaming\\nltk_data...\n",
      "[nltk_data]   Package punkt is already up-to-date!\n",
      "[nltk_data] Downloading package averaged_perceptron_tagger to\n",
      "[nltk_data]     C:\\Users\\piuso\\AppData\\Roaming\\nltk_data...\n",
      "[nltk_data]   Package averaged_perceptron_tagger is already up-to-\n",
      "[nltk_data]       date!\n",
      "[nltk_data] Downloading package tagsets to\n",
      "[nltk_data]     C:\\Users\\piuso\\AppData\\Roaming\\nltk_data...\n",
      "[nltk_data]   Package tagsets is already up-to-date!\n",
      "[nltk_data] Downloading package averaged_perceptron_tagger to\n",
      "[nltk_data]     C:\\Users\\piuso\\AppData\\Roaming\\nltk_data...\n",
      "[nltk_data]   Package averaged_perceptron_tagger is already up-to-\n",
      "[nltk_data]       date!\n"
     ]
    },
    {
     "data": {
      "text/plain": [
       "True"
      ]
     },
     "execution_count": 20,
     "metadata": {},
     "output_type": "execute_result"
    }
   ],
   "source": [
    "import pandas as pd\n",
    "import re\n",
    "import nltk\n",
    "from nltk.corpus import stopwords\n",
    "from nltk.tokenize import word_tokenize\n",
    "\n",
    "# Initialize the NLTK tokenizer for Kiswahili\n",
    "nltk.download('punkt')\n",
    "nltk.download('averaged_perceptron_tagger')\n",
    "nltk.download('tagsets')\n",
    "nltk.download('averaged_perceptron_tagger')"
   ]
  },
  {
   "cell_type": "markdown",
   "id": "63588d1c",
   "metadata": {},
   "source": [
    "## Load our dataset of labeled reviews"
   ]
  },
  {
   "cell_type": "code",
   "execution_count": 13,
   "id": "3ec88c78",
   "metadata": {},
   "outputs": [
    {
     "data": {
      "text/html": [
       "<div>\n",
       "<style scoped>\n",
       "    .dataframe tbody tr th:only-of-type {\n",
       "        vertical-align: middle;\n",
       "    }\n",
       "\n",
       "    .dataframe tbody tr th {\n",
       "        vertical-align: top;\n",
       "    }\n",
       "\n",
       "    .dataframe thead th {\n",
       "        text-align: right;\n",
       "    }\n",
       "</style>\n",
       "<table border=\"1\" class=\"dataframe\">\n",
       "  <thead>\n",
       "    <tr style=\"text-align: right;\">\n",
       "      <th></th>\n",
       "      <th>text</th>\n",
       "      <th>labels</th>\n",
       "    </tr>\n",
       "  </thead>\n",
       "  <tbody>\n",
       "    <tr>\n",
       "      <th>0</th>\n",
       "      <td>kwa bahati mbaya fadhila yoyote katika kazi ya...</td>\n",
       "      <td>negative</td>\n",
       "    </tr>\n",
       "    <tr>\n",
       "      <th>1</th>\n",
       "      <td>huwa na sauti ya juu zaidi kuliko msemaji mwin...</td>\n",
       "      <td>positive</td>\n",
       "    </tr>\n",
       "    <tr>\n",
       "      <th>2</th>\n",
       "      <td>iligundua kwamba ni rahisi kutengeneza na kutu...</td>\n",
       "      <td>positive</td>\n",
       "    </tr>\n",
       "    <tr>\n",
       "      <th>3</th>\n",
       "      <td>ipurkated hii kwa ajili ya msimamizi wa gari n...</td>\n",
       "      <td>negative</td>\n",
       "    </tr>\n",
       "    <tr>\n",
       "      <th>4</th>\n",
       "      <td>sinema nzuri kwelikweli juu ya upendo mkubwa u...</td>\n",
       "      <td>positive</td>\n",
       "    </tr>\n",
       "    <tr>\n",
       "      <th>5</th>\n",
       "      <td>mwandiko huo ni wa kipumbavu sana</td>\n",
       "      <td>negative</td>\n",
       "    </tr>\n",
       "    <tr>\n",
       "      <th>6</th>\n",
       "      <td>kwa kushangaza mimi hupata sinema zake kupotez...</td>\n",
       "      <td>negative</td>\n",
       "    </tr>\n",
       "    <tr>\n",
       "      <th>7</th>\n",
       "      <td>Sasa unajua ni kwa nini niliitoa 10</td>\n",
       "      <td>positive</td>\n",
       "    </tr>\n",
       "    <tr>\n",
       "      <th>8</th>\n",
       "      <td>Sehemu ya pili ya spidrocock iliboresha sana m...</td>\n",
       "      <td>positive</td>\n",
       "    </tr>\n",
       "    <tr>\n",
       "      <th>9</th>\n",
       "      <td>kufanikiwa kwa filamu hiyo kwategemea kubebwa ...</td>\n",
       "      <td>positive</td>\n",
       "    </tr>\n",
       "    <tr>\n",
       "      <th>10</th>\n",
       "      <td>nitapatia filamu hii 10 kati ya 10</td>\n",
       "      <td>positive</td>\n",
       "    </tr>\n",
       "    <tr>\n",
       "      <th>11</th>\n",
       "      <td>Wote hufanya kazi nzuri na ni wenye kuchekesha</td>\n",
       "      <td>positive</td>\n",
       "    </tr>\n",
       "    <tr>\n",
       "      <th>12</th>\n",
       "      <td>Mahali hapo ni penye kuchukiza</td>\n",
       "      <td>negative</td>\n",
       "    </tr>\n",
       "    <tr>\n",
       "      <th>13</th>\n",
       "      <td>Ubora bora kabisa wa sauti</td>\n",
       "      <td>positive</td>\n",
       "    </tr>\n",
       "    <tr>\n",
       "      <th>14</th>\n",
       "      <td>hadithi hiyo haiwezi kuwa ya kipumbavu</td>\n",
       "      <td>negative</td>\n",
       "    </tr>\n",
       "    <tr>\n",
       "      <th>15</th>\n",
       "      <td>faida kamera nzuri picha nzuri sana pia ina mi...</td>\n",
       "      <td>positive</td>\n",
       "    </tr>\n",
       "    <tr>\n",
       "      <th>16</th>\n",
       "      <td>amependezwa sana na picha hii ya kichwa</td>\n",
       "      <td>positive</td>\n",
       "    </tr>\n",
       "    <tr>\n",
       "      <th>17</th>\n",
       "      <td>Ilijaribu kuku aina ya ravoli pamoja na cranbe...</td>\n",
       "      <td>positive</td>\n",
       "    </tr>\n",
       "    <tr>\n",
       "      <th>18</th>\n",
       "      <td>Ununue vizuri na utapata tena simu yangu ifuatayo</td>\n",
       "      <td>positive</td>\n",
       "    </tr>\n",
       "    <tr>\n",
       "      <th>19</th>\n",
       "      <td>Nimenunua simu hii ya mkononi ya nokia majuma ...</td>\n",
       "      <td>negative</td>\n",
       "    </tr>\n",
       "  </tbody>\n",
       "</table>\n",
       "</div>"
      ],
      "text/plain": [
       "                                                 text    labels\n",
       "0   kwa bahati mbaya fadhila yoyote katika kazi ya...  negative\n",
       "1   huwa na sauti ya juu zaidi kuliko msemaji mwin...  positive\n",
       "2   iligundua kwamba ni rahisi kutengeneza na kutu...  positive\n",
       "3   ipurkated hii kwa ajili ya msimamizi wa gari n...  negative\n",
       "4   sinema nzuri kwelikweli juu ya upendo mkubwa u...  positive\n",
       "5                   mwandiko huo ni wa kipumbavu sana  negative\n",
       "6   kwa kushangaza mimi hupata sinema zake kupotez...  negative\n",
       "7                 Sasa unajua ni kwa nini niliitoa 10  positive\n",
       "8   Sehemu ya pili ya spidrocock iliboresha sana m...  positive\n",
       "9   kufanikiwa kwa filamu hiyo kwategemea kubebwa ...  positive\n",
       "10                 nitapatia filamu hii 10 kati ya 10  positive\n",
       "11     Wote hufanya kazi nzuri na ni wenye kuchekesha  positive\n",
       "12                     Mahali hapo ni penye kuchukiza  negative\n",
       "13                         Ubora bora kabisa wa sauti  positive\n",
       "14             hadithi hiyo haiwezi kuwa ya kipumbavu  negative\n",
       "15  faida kamera nzuri picha nzuri sana pia ina mi...  positive\n",
       "16            amependezwa sana na picha hii ya kichwa  positive\n",
       "17  Ilijaribu kuku aina ya ravoli pamoja na cranbe...  positive\n",
       "18  Ununue vizuri na utapata tena simu yangu ifuatayo  positive\n",
       "19  Nimenunua simu hii ya mkononi ya nokia majuma ...  negative"
      ]
     },
     "execution_count": 13,
     "metadata": {},
     "output_type": "execute_result"
    }
   ],
   "source": [
    "df = pd.read_csv('swahili.csv')\n",
    "\n",
    "df.head(20)"
   ]
  },
  {
   "cell_type": "markdown",
   "id": "e71fdd46",
   "metadata": {},
   "source": [
    "## Data Preprocessing"
   ]
  },
  {
   "cell_type": "markdown",
   "id": "eff9e6fc",
   "metadata": {},
   "source": [
    "### 1. Remove URLS"
   ]
  },
  {
   "cell_type": "code",
   "execution_count": 14,
   "id": "b5aec539",
   "metadata": {},
   "outputs": [
    {
     "name": "stdout",
     "output_type": "stream",
     "text": [
      "3207    Ningeupa mfululizo huu wa televisheni mfululiz...\n",
      "3902    simu pia zinaweza kupiga picha kubwa na hata v...\n",
      "940     jambo lenye kuvunja moyo sana ni kwamba hakuku...\n",
      "1931                        filamu fupi iliyo bora kabisa\n",
      "773                   Huduma za wateja zilizo mbaya zaidi\n",
      "1822            hufanya kila kitu kilichosemwa kingefanya\n",
      "897              Bila shaka ningependekeza mabawa na piza\n",
      "1255    ukubwa wa kiwambo ni wa sehemu ya juu iliyo pa...\n",
      "549                             Uzoea wa kwenda hapa tena\n",
      "2352           kwa hivyo hadithi nzima haina nguvu fulani\n",
      "Name: text, dtype: object\n"
     ]
    }
   ],
   "source": [
    "#Remove the urls\n",
    "def remove_urls(text):\n",
    "    url_pattern = re.compile(r'https?://\\S+|www\\.\\S+')\n",
    "    return url_pattern.sub('', text)\n",
    "\n",
    "df['text'] = df['text'].apply(remove_urls)\n",
    "\n",
    "#print out a sample\n",
    "print(df['text'].sample(10))"
   ]
  },
  {
   "cell_type": "markdown",
   "id": "9116ae8b",
   "metadata": {},
   "source": [
    "### 2. Remove special characters"
   ]
  },
  {
   "cell_type": "code",
   "execution_count": 15,
   "id": "8295fc8a",
   "metadata": {},
   "outputs": [
    {
     "name": "stdout",
     "output_type": "stream",
     "text": [
      "2590                                  Wala hatarejea tena\n",
      "1726                       lililokuwa jambo la kuchekesha\n",
      "2932                                  sinema hii ni mbaya\n",
      "3618       ililazimishwa kama kila kitu kwenye sinema hii\n",
      "2517    hujui kamwe ikiwa uliisukuma kwa nguvu vya kut...\n",
      "2527                                          Simu baridi\n",
      "991                                    Sipsi yenye kasoro\n",
      "1474                                      furaha ilitanda\n",
      "234     sinema hiyo ilikufanya uwe kwenye ukingo wa ki...\n",
      "3005    sana ujinga katika kila nyanja kuwa inakuwa fu...\n",
      "Name: text, dtype: object\n"
     ]
    }
   ],
   "source": [
    "#Remove special characters\n",
    "def remove_special_characters(text):\n",
    "    pattern = r'[^a-zA-Z0-9\\s]' # keep only alphanumeric and whitespace characters\n",
    "    text = re.sub(pattern, '', text)\n",
    "    return text\n",
    "\n",
    "df['text'] = df['text'].apply(remove_special_characters)\n",
    "\n",
    "#print out a sample\n",
    "print(df['text'].sample(10))"
   ]
  },
  {
   "cell_type": "markdown",
   "id": "bb587c01",
   "metadata": {},
   "source": [
    "### 3. Convert to lower case"
   ]
  },
  {
   "cell_type": "code",
   "execution_count": 16,
   "id": "2104074c",
   "metadata": {},
   "outputs": [
    {
     "name": "stdout",
     "output_type": "stream",
     "text": [
      "2416    inapendeza na inasisimua sana kutazama na nina...\n",
      "3184                   kwa ujumla nilivutiwa sana na noca\n",
      "1732                            hakika huo utafungiwa nao\n",
      "3179    matokeo yake ni filamu ambayo haionekani kuwa ...\n",
      "421     hii ni haki kabisa kwa filamu inayowasilisha k...\n",
      "1679         ndiyo mngao wake upande wa mbele na kuupenda\n",
      "453     sikuzote wafanyakazi ni wenye urafiki na wenye...\n",
      "953     ikiwa wakati wowote kulikuwa na wonyesho wa mw...\n",
      "2412    lakini nilifikiria uigizaji wake ulikuwa na us...\n",
      "760     mandhari nzuri sana na yenye kuburudisha ya ku...\n",
      "Name: text, dtype: object\n"
     ]
    }
   ],
   "source": [
    "#convert to lower case\n",
    "df['text'] = df['text'].str.lower()\n",
    "\n",
    "#print out a sample\n",
    "print(df['text'].sample(10))"
   ]
  },
  {
   "cell_type": "markdown",
   "id": "2280f55d",
   "metadata": {},
   "source": [
    "### 4. Remove stopwords"
   ]
  },
  {
   "cell_type": "code",
   "execution_count": 21,
   "id": "a383e2cb",
   "metadata": {},
   "outputs": [
    {
     "name": "stdout",
     "output_type": "stream",
     "text": [
      "1184                                nilifurahia kula hapa\n",
      "858     kushangaza nyingi huona sinema kupoteza kabisa...\n",
      "3535    imefikiriwa kirukanjia akili nyingi tangu amek...\n",
      "816     ongeza betty white jean smart una waigizaji wa...\n",
      "2606    kule kubadilika badilika hisia mwenzi mtu kati...\n",
      "2082                                              itizame\n",
      "995       duris ana muonekano mzuri anatoa utendaji mzuri\n",
      "1570                                          bidhaa duni\n",
      "2594                         simu huchukua saa 2 5 halisi\n",
      "1599                         napiga hesabu sinema hii 910\n",
      "Name: text, dtype: object\n"
     ]
    }
   ],
   "source": [
    "# Download the stopwords for Kiswahili language\n",
    "swahili_stopwords = stopwords.words('swahili')\n",
    "\n",
    "# Define a function to remove stopwords\n",
    "def remove_stopwords(text):\n",
    "    # Tokenize the text\n",
    "    tokens = word_tokenize(text)\n",
    "    # Remove the stopwords\n",
    "    filtered_tokens = [word for word in tokens if word.lower() not in swahili_stopwords]\n",
    "    # Join the filtered tokens back into a string\n",
    "    filtered_text = ' '.join(filtered_tokens)\n",
    "    return filtered_text\n",
    "\n",
    "# Apply the remove_stopwords function to the 'text' column of the DataFrame\n",
    "df['text'] = df['text'].apply(remove_stopwords)\n",
    "\n",
    "print(df['text'].sample(10))"
   ]
  },
  {
   "cell_type": "markdown",
   "id": "044f9831",
   "metadata": {},
   "source": [
    "## Save the cleaned data to use in Milestone 2"
   ]
  },
  {
   "cell_type": "code",
   "execution_count": 24,
   "id": "d1059396",
   "metadata": {},
   "outputs": [],
   "source": [
    "df.to_csv('cleaned_data.csv', index=False)"
   ]
  },
  {
   "cell_type": "markdown",
   "id": "30fccadf",
   "metadata": {},
   "source": [
    "# <em><u>THE END</u></em> "
   ]
  }
 ],
 "metadata": {
  "kernelspec": {
   "display_name": "Python 3 (ipykernel)",
   "language": "python",
   "name": "python3"
  },
  "language_info": {
   "codemirror_mode": {
    "name": "ipython",
    "version": 3
   },
   "file_extension": ".py",
   "mimetype": "text/x-python",
   "name": "python",
   "nbconvert_exporter": "python",
   "pygments_lexer": "ipython3",
   "version": "3.9.13"
  }
 },
 "nbformat": 4,
 "nbformat_minor": 5
}
