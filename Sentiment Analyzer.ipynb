{
 "cells": [
  {
   "cell_type": "markdown",
   "id": "cfd10ef3",
   "metadata": {},
   "source": [
    "# <em><u>Sentiment Analyzer</u></em>"
   ]
  },
  {
   "cell_type": "markdown",
   "id": "d91c39b1",
   "metadata": {},
   "source": [
    "## Import the necessary libraries "
   ]
  },
  {
   "cell_type": "code",
   "execution_count": 52,
   "id": "ffe709f8",
   "metadata": {},
   "outputs": [
    {
     "name": "stderr",
     "output_type": "stream",
     "text": [
      "[nltk_data] Downloading package punkt to\n",
      "[nltk_data]     C:\\Users\\piuso\\AppData\\Roaming\\nltk_data...\n",
      "[nltk_data]   Package punkt is already up-to-date!\n",
      "[nltk_data] Downloading package averaged_perceptron_tagger to\n",
      "[nltk_data]     C:\\Users\\piuso\\AppData\\Roaming\\nltk_data...\n",
      "[nltk_data]   Package averaged_perceptron_tagger is already up-to-\n",
      "[nltk_data]       date!\n",
      "[nltk_data] Downloading package tagsets to\n",
      "[nltk_data]     C:\\Users\\piuso\\AppData\\Roaming\\nltk_data...\n",
      "[nltk_data]   Package tagsets is already up-to-date!\n",
      "[nltk_data] Downloading package averaged_perceptron_tagger to\n",
      "[nltk_data]     C:\\Users\\piuso\\AppData\\Roaming\\nltk_data...\n",
      "[nltk_data]   Package averaged_perceptron_tagger is already up-to-\n",
      "[nltk_data]       date!\n"
     ]
    },
    {
     "data": {
      "text/plain": [
       "True"
      ]
     },
     "execution_count": 52,
     "metadata": {},
     "output_type": "execute_result"
    }
   ],
   "source": [
    "import re\n",
    "import pandas as pd\n",
    "import nltk\n",
    "from nltk.corpus import stopwords\n",
    "\n",
    "# Initialize the NLTK tokenizer for Kiswahili\n",
    "nltk.download('punkt')\n",
    "nltk.download('averaged_perceptron_tagger')\n",
    "nltk.download('tagsets')\n",
    "nltk.download('averaged_perceptron_tagger')"
   ]
  },
  {
   "cell_type": "markdown",
   "id": "ea921685",
   "metadata": {},
   "source": [
    "## Load our dataset "
   ]
  },
  {
   "cell_type": "code",
   "execution_count": 53,
   "id": "f9fe3990",
   "metadata": {},
   "outputs": [
    {
     "data": {
      "text/html": [
       "<div>\n",
       "<style scoped>\n",
       "    .dataframe tbody tr th:only-of-type {\n",
       "        vertical-align: middle;\n",
       "    }\n",
       "\n",
       "    .dataframe tbody tr th {\n",
       "        vertical-align: top;\n",
       "    }\n",
       "\n",
       "    .dataframe thead th {\n",
       "        text-align: right;\n",
       "    }\n",
       "</style>\n",
       "<table border=\"1\" class=\"dataframe\">\n",
       "  <thead>\n",
       "    <tr style=\"text-align: right;\">\n",
       "      <th></th>\n",
       "      <th>text</th>\n",
       "    </tr>\n",
       "  </thead>\n",
       "  <tbody>\n",
       "    <tr>\n",
       "      <th>0</th>\n",
       "      <td>Ninakupenda.</td>\n",
       "    </tr>\n",
       "    <tr>\n",
       "      <th>1</th>\n",
       "      <td>Nini?</td>\n",
       "    </tr>\n",
       "    <tr>\n",
       "      <th>2</th>\n",
       "      <td>Watu wote wamezaliwa huru, hadhi na haki zao n...</td>\n",
       "    </tr>\n",
       "    <tr>\n",
       "      <th>3</th>\n",
       "      <td>Hutusahau!</td>\n",
       "    </tr>\n",
       "    <tr>\n",
       "      <th>4</th>\n",
       "      <td>Sijui.</td>\n",
       "    </tr>\n",
       "    <tr>\n",
       "      <th>5</th>\n",
       "      <td>Swali nzuri.</td>\n",
       "    </tr>\n",
       "    <tr>\n",
       "      <th>6</th>\n",
       "      <td>Unakumbuka?</td>\n",
       "    </tr>\n",
       "    <tr>\n",
       "      <th>7</th>\n",
       "      <td>Kwenda kwa teksi hotelini.</td>\n",
       "    </tr>\n",
       "    <tr>\n",
       "      <th>8</th>\n",
       "      <td>Usisahau kupeleka barua</td>\n",
       "    </tr>\n",
       "    <tr>\n",
       "      <th>9</th>\n",
       "      <td>Nitarudi.</td>\n",
       "    </tr>\n",
       "  </tbody>\n",
       "</table>\n",
       "</div>"
      ],
      "text/plain": [
       "                                                text\n",
       "0                                       Ninakupenda.\n",
       "1                                              Nini?\n",
       "2  Watu wote wamezaliwa huru, hadhi na haki zao n...\n",
       "3                                         Hutusahau!\n",
       "4                                             Sijui.\n",
       "5                                       Swali nzuri.\n",
       "6                                        Unakumbuka?\n",
       "7                         Kwenda kwa teksi hotelini.\n",
       "8                            Usisahau kupeleka barua\n",
       "9                                          Nitarudi."
      ]
     },
     "execution_count": 53,
     "metadata": {},
     "output_type": "execute_result"
    }
   ],
   "source": [
    "df = pd.read_csv('swh_sentences.csv')\n",
    "\n",
    "df.head(10)"
   ]
  },
  {
   "cell_type": "markdown",
   "id": "02378a04",
   "metadata": {},
   "source": [
    "## Data Preprocessing"
   ]
  },
  {
   "cell_type": "markdown",
   "id": "d0fcd36d",
   "metadata": {},
   "source": [
    "1. Remove URLS"
   ]
  },
  {
   "cell_type": "code",
   "execution_count": 54,
   "id": "c2b82023",
   "metadata": {},
   "outputs": [
    {
     "name": "stdout",
     "output_type": "stream",
     "text": [
      "314                                Je, ana kompyuta npya?\n",
      "2000                            Ni kitabu cha kihispania.\n",
      "1555                  Kawaida yeye hulala kwa masaa nane.\n",
      "7023    katika umalizio wangu sitajishughulisha na sin...\n",
      "7739    Vicheko pia bila shaka ni vipengele vibaya zai...\n",
      "3621                              Mwishowe tutafika hapo.\n",
      "1768                usipoteze hata nafaka moja la mchele!\n",
      "6380                    Pia hufanya iwe rahisi kushikilia\n",
      "703     Tulimchagua Jeffrey kama Kapteni wa kikosi chetu.\n",
      "3737    Nilikuwa nikifikiria kuhusu Anne, alielezea. \"...\n",
      "Name: text, dtype: object\n"
     ]
    }
   ],
   "source": [
    "#Remove the urls\n",
    "def remove_urls(text):\n",
    "    url_pattern = re.compile(r'https?://\\S+|www\\.\\S+')\n",
    "    return url_pattern.sub('', text)\n",
    "\n",
    "df['text'] = df['text'].apply(remove_urls)\n",
    "\n",
    "#print out a sample\n",
    "print(df['text'].sample(10))"
   ]
  },
  {
   "cell_type": "markdown",
   "id": "c77087f5",
   "metadata": {},
   "source": [
    "2. Remove URLS"
   ]
  },
  {
   "cell_type": "code",
   "execution_count": 55,
   "id": "c4aeaccc",
   "metadata": {},
   "outputs": [
    {
     "name": "stdout",
     "output_type": "stream",
     "text": [
      "7564    Orodha ya vyakula inabadili ubora wa chakula n...\n",
      "204                                          Jiwe ni zito\n",
      "7440                        Utumishi pia ni wenye kuvutia\n",
      "2800                          Inaonekana kuwa rahisi sana\n",
      "7713     unatayarisha samaki wapya wa ajabu kwa uangalifu\n",
      "6205                      Ni rahisi kuitumia na kukipenda\n",
      "7424            honeslty haikuwa na ladha nzuri kama hiyo\n",
      "4071    Tafadhali unaweza kubadilisha chupa zote za po...\n",
      "2363               Sijawahi kuambia mtu hilo hapo mbeleni\n",
      "4897                sinunui mkate mjini kwa sababu haifai\n",
      "Name: text, dtype: object\n"
     ]
    }
   ],
   "source": [
    "#Remove special characters\n",
    "def remove_special_characters(text):\n",
    "    pattern = r'[^a-zA-Z0-9\\s]' # keep only alphanumeric and whitespace characters\n",
    "    text = re.sub(pattern, '', text)\n",
    "    return text\n",
    "\n",
    "df['text'] = df['text'].apply(remove_special_characters)\n",
    "\n",
    "#print out a sample\n",
    "print(df['text'].sample(10))"
   ]
  },
  {
   "cell_type": "markdown",
   "id": "26539312",
   "metadata": {},
   "source": [
    "3. Convert to lower case"
   ]
  },
  {
   "cell_type": "code",
   "execution_count": 56,
   "id": "2141746e",
   "metadata": {},
   "outputs": [
    {
     "name": "stdout",
     "output_type": "stream",
     "text": [
      "4445    kadi yangu ya mikopo ilikataliwa na mashine ya...\n",
      "2002            pedro ana pikipiki na anapenda kuiendesha\n",
      "4220                    mpenzi wangu ni mweledi wa upishi\n",
      "3738    je unaniambia kuwa ni kawaida kabisa kumdangan...\n",
      "4196                    wakati mwingine pia mimi huogelea\n",
      "7452             kwa ujumla mimi hupenda mahali hapa sana\n",
      "5163    ikiwa unapenda kifo na kuoza na nyimbo za shak...\n",
      "339                                   anafundisha kiarabu\n",
      "4281                        anakosa kiatu chake cha kulia\n",
      "8102                      nyama nzuri iliyopondwa  pondwa\n",
      "Name: text, dtype: object\n"
     ]
    }
   ],
   "source": [
    "#convert to lower case\n",
    "df['text'] = df['text'].str.lower()\n",
    "\n",
    "#print out a sample\n",
    "print(df['text'].sample(10))"
   ]
  },
  {
   "cell_type": "markdown",
   "id": "e3a77ae0",
   "metadata": {},
   "source": [
    "4. Tokenize the text data"
   ]
  },
  {
   "cell_type": "code",
   "execution_count": 57,
   "id": "27a18ad3",
   "metadata": {},
   "outputs": [
    {
     "name": "stdout",
     "output_type": "stream",
     "text": [
      "6346                       [na, ninapo, maliza, sijitoma]\n",
      "4683    [filamu, inaonekana, ya, bei, rahisi, na, isiy...\n",
      "5262                                 [ana, moyo, mkujufu]\n",
      "3035    [mabibi, na, mabwana, sasa, tumewasili, kwenye...\n",
      "7720    [utaratibu, wa, viazi, ulisikitisha, na, labda...\n",
      "4330                [walichezea, kikosi, cha, shule, yao]\n",
      "6489    [mara, nyingi, mazungumzo, hayafuati, mstari, ...\n",
      "3924    [kuhusu, mshumaa, na, damu, na, maandishi, uku...\n",
      "3492                   [je, niliguza, hali, ya, wasiwasi]\n",
      "6122                                  [basi, jihadharini]\n",
      "Name: tokens, dtype: object\n"
     ]
    }
   ],
   "source": [
    "# Tokenize the text data\n",
    "tokenizer = nltk.tokenize.TreebankWordTokenizer()\n",
    "\n",
    "for i, row in df.iterrows():\n",
    "    text = row['text']  \n",
    "    tokens = tokenizer.tokenize(text)\n",
    "    df.at[i, 'tokens'] = tokens\n",
    "\n",
    "print(df['tokens'].sample(10))"
   ]
  },
  {
   "cell_type": "markdown",
   "id": "35fa0b6d",
   "metadata": {},
   "source": [
    "5. Remove stopwords"
   ]
  },
  {
   "cell_type": "code",
   "execution_count": 58,
   "id": "aa0d11b4",
   "metadata": {
    "scrolled": true
   },
   "outputs": [
    {
     "name": "stdout",
     "output_type": "stream",
     "text": [
      "440                                          [si, muhimu]\n",
      "650                       [tunajua, hadithi, robin, hood]\n",
      "7480       [vijia, vyote, vimetengenezwa, mikono, vitamu]\n",
      "2647                     [je, mlango, ulikuwa, umefungwa]\n",
      "946               [jane, lazima, aache, tamaa, chokoleti]\n",
      "1517          [mwanamume, ambaye, anaongea, bwana, allen]\n",
      "5534    [nilifikia, simu, hii, mwishoni, mwa, hali, ku...\n",
      "2106             [jiji, langu, hali, joto, nyuzi, sifuri]\n",
      "4434    [alishambuliwa, genge, walimpiga, kuchukua, po...\n",
      "707         [aliipowasili, london, alinitumia, telegramu]\n",
      "Name: tokens, dtype: object\n"
     ]
    }
   ],
   "source": [
    "# Remove stopwords\n",
    "def remove_stopwords(tokens):\n",
    "    stopwords_list = stopwords.words('swahili')\n",
    "    filtered_tokens = [token for token in tokens if token.lower() not in stopwords_list]\n",
    "    return filtered_tokens\n",
    "\n",
    "df['tokens'] = df['tokens'].apply(remove_stopwords)\n",
    "\n",
    "print(df['tokens'].sample(10))"
   ]
  },
  {
   "cell_type": "markdown",
   "id": "91fd764a",
   "metadata": {},
   "source": [
    "## "
   ]
  }
 ],
 "metadata": {
  "kernelspec": {
   "display_name": "Python 3 (ipykernel)",
   "language": "python",
   "name": "python3"
  },
  "language_info": {
   "codemirror_mode": {
    "name": "ipython",
    "version": 3
   },
   "file_extension": ".py",
   "mimetype": "text/x-python",
   "name": "python",
   "nbconvert_exporter": "python",
   "pygments_lexer": "ipython3",
   "version": "3.9.13"
  }
 },
 "nbformat": 4,
 "nbformat_minor": 5
}
