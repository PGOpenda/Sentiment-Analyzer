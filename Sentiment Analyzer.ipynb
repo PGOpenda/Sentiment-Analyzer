{
 "cells": [
  {
   "cell_type": "markdown",
   "id": "c2e14507",
   "metadata": {},
   "source": [
    "# <em><u>Sentiment Analyzer</u></em>"
   ]
  },
  {
   "cell_type": "markdown",
   "id": "ba2ba966",
   "metadata": {},
   "source": [
    "## Import the necessary libraries "
   ]
  },
  {
   "cell_type": "code",
   "execution_count": null,
   "id": "0fcec3da",
   "metadata": {},
   "outputs": [],
   "source": [
    "import pandas as pd\n",
    "import nltk"
   ]
  },
  {
   "cell_type": "code",
   "execution_count": null,
   "id": "bbf7f894",
   "metadata": {},
   "outputs": [],
   "source": []
  }
 ],
 "metadata": {
  "kernelspec": {
   "display_name": "Python 3 (ipykernel)",
   "language": "python",
   "name": "python3"
  },
  "language_info": {
   "codemirror_mode": {
    "name": "ipython",
    "version": 3
   },
   "file_extension": ".py",
   "mimetype": "text/x-python",
   "name": "python",
   "nbconvert_exporter": "python",
   "pygments_lexer": "ipython3",
   "version": "3.9.13"
  }
 },
 "nbformat": 4,
 "nbformat_minor": 5
}
