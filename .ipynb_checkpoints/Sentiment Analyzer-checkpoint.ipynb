{
 "cells": [
  {
   "cell_type": "markdown",
   "id": "cfd10ef3",
   "metadata": {},
   "source": [
    "# <em><u>Sentiment Analyzer</u></em>"
   ]
  },
  {
   "cell_type": "markdown",
   "id": "d91c39b1",
   "metadata": {},
   "source": [
    "## Import the necessary libraries "
   ]
  },
  {
   "cell_type": "code",
   "execution_count": 41,
   "id": "ffe709f8",
   "metadata": {},
   "outputs": [
    {
     "name": "stderr",
     "output_type": "stream",
     "text": [
      "[nltk_data] Downloading package punkt to\n",
      "[nltk_data]     C:\\Users\\piuso\\AppData\\Roaming\\nltk_data...\n",
      "[nltk_data]   Package punkt is already up-to-date!\n",
      "[nltk_data] Downloading package averaged_perceptron_tagger to\n",
      "[nltk_data]     C:\\Users\\piuso\\AppData\\Roaming\\nltk_data...\n",
      "[nltk_data]   Package averaged_perceptron_tagger is already up-to-\n",
      "[nltk_data]       date!\n",
      "[nltk_data] Downloading package tagsets to\n",
      "[nltk_data]     C:\\Users\\piuso\\AppData\\Roaming\\nltk_data...\n",
      "[nltk_data]   Package tagsets is already up-to-date!\n",
      "[nltk_data] Downloading package averaged_perceptron_tagger to\n",
      "[nltk_data]     C:\\Users\\piuso\\AppData\\Roaming\\nltk_data...\n",
      "[nltk_data]   Package averaged_perceptron_tagger is already up-to-\n",
      "[nltk_data]       date!\n"
     ]
    },
    {
     "data": {
      "text/plain": [
       "True"
      ]
     },
     "execution_count": 41,
     "metadata": {},
     "output_type": "execute_result"
    }
   ],
   "source": [
    "import re\n",
    "import pandas as pd\n",
    "import nltk\n",
    "from nltk.corpus import stopwords\n",
    "\n",
    "# Initialize the NLTK tokenizer for Kiswahili\n",
    "nltk.download('punkt')\n",
    "nltk.download('averaged_perceptron_tagger')\n",
    "nltk.download('tagsets')\n",
    "nltk.download('averaged_perceptron_tagger')"
   ]
  },
  {
   "cell_type": "markdown",
   "id": "ea921685",
   "metadata": {},
   "source": [
    "## Load our dataset "
   ]
  },
  {
   "cell_type": "code",
   "execution_count": 36,
   "id": "f9fe3990",
   "metadata": {},
   "outputs": [
    {
     "data": {
      "text/html": [
       "<div>\n",
       "<style scoped>\n",
       "    .dataframe tbody tr th:only-of-type {\n",
       "        vertical-align: middle;\n",
       "    }\n",
       "\n",
       "    .dataframe tbody tr th {\n",
       "        vertical-align: top;\n",
       "    }\n",
       "\n",
       "    .dataframe thead th {\n",
       "        text-align: right;\n",
       "    }\n",
       "</style>\n",
       "<table border=\"1\" class=\"dataframe\">\n",
       "  <thead>\n",
       "    <tr style=\"text-align: right;\">\n",
       "      <th></th>\n",
       "      <th>text</th>\n",
       "    </tr>\n",
       "  </thead>\n",
       "  <tbody>\n",
       "    <tr>\n",
       "      <th>0</th>\n",
       "      <td>Ninakupenda.</td>\n",
       "    </tr>\n",
       "    <tr>\n",
       "      <th>1</th>\n",
       "      <td>Nini?</td>\n",
       "    </tr>\n",
       "    <tr>\n",
       "      <th>2</th>\n",
       "      <td>Watu wote wamezaliwa huru, hadhi na haki zao n...</td>\n",
       "    </tr>\n",
       "    <tr>\n",
       "      <th>3</th>\n",
       "      <td>Hutusahau!</td>\n",
       "    </tr>\n",
       "    <tr>\n",
       "      <th>4</th>\n",
       "      <td>Sijui.</td>\n",
       "    </tr>\n",
       "    <tr>\n",
       "      <th>5</th>\n",
       "      <td>Swali nzuri.</td>\n",
       "    </tr>\n",
       "    <tr>\n",
       "      <th>6</th>\n",
       "      <td>Unakumbuka?</td>\n",
       "    </tr>\n",
       "    <tr>\n",
       "      <th>7</th>\n",
       "      <td>Kwenda kwa teksi hotelini.</td>\n",
       "    </tr>\n",
       "    <tr>\n",
       "      <th>8</th>\n",
       "      <td>Usisahau kupeleka barua</td>\n",
       "    </tr>\n",
       "    <tr>\n",
       "      <th>9</th>\n",
       "      <td>Nitarudi.</td>\n",
       "    </tr>\n",
       "  </tbody>\n",
       "</table>\n",
       "</div>"
      ],
      "text/plain": [
       "                                                text\n",
       "0                                       Ninakupenda.\n",
       "1                                              Nini?\n",
       "2  Watu wote wamezaliwa huru, hadhi na haki zao n...\n",
       "3                                         Hutusahau!\n",
       "4                                             Sijui.\n",
       "5                                       Swali nzuri.\n",
       "6                                        Unakumbuka?\n",
       "7                         Kwenda kwa teksi hotelini.\n",
       "8                            Usisahau kupeleka barua\n",
       "9                                          Nitarudi."
      ]
     },
     "execution_count": 36,
     "metadata": {},
     "output_type": "execute_result"
    }
   ],
   "source": [
    "df = pd.read_csv('swh_sentences.csv')\n",
    "\n",
    "df.head(10)"
   ]
  },
  {
   "cell_type": "markdown",
   "id": "d759e650",
   "metadata": {},
   "source": [
    "## Data Preprocessing"
   ]
  },
  {
   "cell_type": "markdown",
   "id": "540ff16c",
   "metadata": {},
   "source": [
    "1. Remove URLS"
   ]
  },
  {
   "cell_type": "code",
   "execution_count": 37,
   "id": "4719b891",
   "metadata": {},
   "outputs": [
    {
     "name": "stdout",
     "output_type": "stream",
     "text": [
      "2457    Lugha ya Kilatini haijanipotelea kabisa kwangu...\n",
      "2778                               Hiyo haitakuwa rahisi.\n",
      "1924    Alikuwa akitafuta funguo kwenye mfuko wake wal...\n",
      "5718                                           Uirudishe.\n",
      "2548                                    Sina malalamishi.\n",
      "6905    Maisha hayayaweki vya kutosha ili yeyote ajue ...\n",
      "8000    ukitafuta chakula halisi cha thai nenda mahali...\n",
      "5788    nikiwa mgonjwa na kichwa changu kianzapo kulia...\n",
      "5721                                            Bei nzuri\n",
      "3416                                  Nitarekebisha hili.\n",
      "Name: text, dtype: object\n"
     ]
    }
   ],
   "source": [
    "#Remove the urls\n",
    "def remove_urls(text):\n",
    "    url_pattern = re.compile(r'https?://\\S+|www\\.\\S+')\n",
    "    return url_pattern.sub('', text)\n",
    "\n",
    "df['text'] = df['text'].apply(remove_urls)\n",
    "\n",
    "#print out a sample\n",
    "print(df['text'].sample(10))"
   ]
  },
  {
   "cell_type": "markdown",
   "id": "d5d61a36",
   "metadata": {},
   "source": [
    "2. Remove URLS"
   ]
  },
  {
   "cell_type": "code",
   "execution_count": 38,
   "id": "56bb7dbb",
   "metadata": {},
   "outputs": [
    {
     "name": "stdout",
     "output_type": "stream",
     "text": [
      "5626                           kaseti za kupitisha habari\n",
      "1276                Mvule alikuwa na wasiwasi ya baiskeli\n",
      "4819                                    mic haifanyi kazi\n",
      "5630                                        Bei kubwa pia\n",
      "5197    kitaalam filamu hiyo imetengenezwa vizuri na k...\n",
      "526     Je Ni mwezi upi unaopenda zaidi kwa mwaka na k...\n",
      "5912                          Sehemu maridadi ya takataka\n",
      "174                                Kupigana kwa haki yako\n",
      "270                                      Millie anampenda\n",
      "6501    Kwa ujumla filamu hiyo inapendeza na inachoche...\n",
      "Name: text, dtype: object\n"
     ]
    }
   ],
   "source": [
    "#Remove special characters\n",
    "def remove_special_characters(text):\n",
    "    pattern = r'[^a-zA-Z0-9\\s]' # keep only alphanumeric and whitespace characters\n",
    "    text = re.sub(pattern, '', text)\n",
    "    return text\n",
    "\n",
    "df['text'] = df['text'].apply(remove_special_characters)\n",
    "\n",
    "#print out a sample\n",
    "print(df['text'].sample(10))"
   ]
  },
  {
   "cell_type": "markdown",
   "id": "21247d83",
   "metadata": {},
   "source": [
    "3. Convert to lower case"
   ]
  },
  {
   "cell_type": "code",
   "execution_count": 39,
   "id": "b30d5681",
   "metadata": {},
   "outputs": [
    {
     "name": "stdout",
     "output_type": "stream",
     "text": [
      "4637                           lo filamu mbaya namna gani\n",
      "1418     jaji alikuwa amechoka kutokana na tatizo la neva\n",
      "6336                                      hunifanyia kazi\n",
      "8320       migomo ya bellagio haikuwa kama nilivyotazamia\n",
      "8123    mimi hufanya kazi katika biashara ya ukaribish...\n",
      "3223    uchunguzi wa mwili wa wafu wa dan uligundua ma...\n",
      "5515                    imepata bidhaa hii kuwa kubwa mno\n",
      "1587                            malkia wa wachawi ameuawa\n",
      "7509    kwa kweli ni kama karamu ya kimapenzi kinywani...\n",
      "7614     muziki wa kawaida katika siku za mapigano makali\n",
      "Name: text, dtype: object\n"
     ]
    }
   ],
   "source": [
    "df['text'] = df['text'].str.lower()\n",
    "\n",
    "#print out a sample\n",
    "print(df['text'].sample(10))"
   ]
  },
  {
   "cell_type": "markdown",
   "id": "39e8b49a",
   "metadata": {},
   "source": [
    "4. Tokenize the text data"
   ]
  },
  {
   "cell_type": "code",
   "execution_count": 51,
   "id": "50b28c42",
   "metadata": {},
   "outputs": [
    {
     "name": "stdout",
     "output_type": "stream",
     "text": [
      "2934                   [mjomba, wangu, ni, dereva, mbovu]\n",
      "2450         [ni, lazima, tuzuie, pigo, hili, ni, hatari]\n",
      "5913    [uzi, wa, kuunganisha, vitu, ulikuwa, na, ukub...\n",
      "1004    [usimimine, maji, ya, moto, kwenye, glasi, au,...\n",
      "3815                [kitabu, hiki, ni, mzee, kiasi, gani]\n",
      "6215    [bei, nzuri, nilinunua, hii, baada, ya, mimi, ...\n",
      "2537    [michael, jackson, alikuwa, mwimbaji, mashuhur...\n",
      "6377    [hata, vibonyezo, viweje, sana, hivi, kwamba, ...\n",
      "7429                                          [hangerudi]\n",
      "3992     [mbao, inapaswa, kushughulikiwa, kwa, uangalifu]\n",
      "Name: tokens, dtype: object\n"
     ]
    }
   ],
   "source": [
    "# Tokenize the text data\n",
    "tokenizer = nltk.tokenize.TreebankWordTokenizer()\n",
    "\n",
    "for i, row in df.iterrows():\n",
    "    text = row['text']  \n",
    "    tokens = tokenizer.tokenize(text)\n",
    "    df.at[i, 'tokens'] = tokens\n",
    "\n",
    "print(df['tokens'].sample(10))"
   ]
  },
  {
   "cell_type": "markdown",
   "id": "a520409d",
   "metadata": {},
   "source": [
    "5. Remove stopwords"
   ]
  },
  {
   "cell_type": "code",
   "execution_count": 50,
   "id": "ae603a71",
   "metadata": {},
   "outputs": [
    {
     "name": "stdout",
     "output_type": "stream",
     "text": [
      "5300                                       [ubora, nzuri]\n",
      "7076    [helen, baxendendale, bibi, anayeaminika, macb...\n",
      "811     [uwezekano, mbadala, ulikuwa, upinzani, kutoroka]\n",
      "1634    [wapo, uhusiano, wapo, hali, ambayo, rahisi, k...\n",
      "6899    [hatimaye, hayo, yote, twafikia, mwisho, ambao...\n",
      "6016                                          [hii, simu]\n",
      "5157    [nilifurahi, kumuona, inspekta, mwala, akitubu...\n",
      "8274       [liliingia, saa, yenye, furaha, orodha, divai]\n",
      "3411                     [nchi, bandia, nguvu, magharibi]\n",
      "5773          [chaguo, kikuza, taa, hizo, zenye, kuvutia]\n",
      "Name: tokens, dtype: object\n"
     ]
    }
   ],
   "source": [
    "# Remove stopwords\n",
    "def remove_stopwords(tokens):\n",
    "    stopwords_list = stopwords.words('swahili')\n",
    "    filtered_tokens = [token for token in tokens if token.lower() not in stopwords_list]\n",
    "    return filtered_tokens\n",
    "\n",
    "df['tokens'] = df['tokens'].apply(remove_stopwords)\n",
    "\n",
    "print(df['tokens'].sample(10))"
   ]
  },
  {
   "cell_type": "code",
   "execution_count": null,
   "id": "f4a7eef0",
   "metadata": {},
   "outputs": [],
   "source": []
  }
 ],
 "metadata": {
  "kernelspec": {
   "display_name": "Python 3 (ipykernel)",
   "language": "python",
   "name": "python3"
  },
  "language_info": {
   "codemirror_mode": {
    "name": "ipython",
    "version": 3
   },
   "file_extension": ".py",
   "mimetype": "text/x-python",
   "name": "python",
   "nbconvert_exporter": "python",
   "pygments_lexer": "ipython3",
   "version": "3.9.13"
  }
 },
 "nbformat": 4,
 "nbformat_minor": 5
}
